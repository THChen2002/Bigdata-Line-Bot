{
 "cells": [
  {
   "cell_type": "code",
   "execution_count": 41,
   "metadata": {},
   "outputs": [],
   "source": [
    "# from config import Config\n",
    "# from linebot.v3.messaging import ApiClient, ApiException, MessagingApi, MessagingApiBlob, RichMenuRequest, CreateRichMenuAliasRequest\n",
    "# from map import DatabaseCollectionMap, DatabaseDocumentMap\n",
    "# import requests\n",
    "\n",
    "# config = Config()\n",
    "# configuration = config.configuration\n",
    "# firebaseService = config.firebaseService\n",
    "\n",
    "# def process_rich_menu(menu_type, alias_id):\n",
    "#     with ApiClient(configuration) as api_client:\n",
    "#         line_bot_api = MessagingApi(api_client)\n",
    "#         line_bot_blob_api = MessagingApiBlob(api_client)\n",
    "    \n",
    "#         # 設定 rich menu image\n",
    "#         rich_menu_str = firebaseService.get_data(\n",
    "#             DatabaseCollectionMap.RICH_MENU,\n",
    "#             DatabaseDocumentMap.RICH_MENU.get(menu_type)\n",
    "#         ).get('richmenu')\n",
    "#         rich_menu_id = get_rich_menu_id(rich_menu_str)\n",
    "#         rich_menu_url = firebaseService.get_data(\n",
    "#             DatabaseCollectionMap.RICH_MENU,\n",
    "#             DatabaseDocumentMap.RICH_MENU.get(menu_type)\n",
    "#         ).get('image_url')\n",
    "#         response = requests.get(rich_menu_url)\n",
    "#         if response.status_code != 200:\n",
    "#             raise ValueError(f'Invalid image url: {rich_menu_url}')\n",
    "#         line_bot_blob_api.set_rich_menu_image(\n",
    "#             rich_menu_id=rich_menu_id,\n",
    "#             body=response.content,\n",
    "#             _headers={'Content-Type': 'image/png'}\n",
    "#         )\n",
    "\n",
    "#         # 設定 rich menu alias\n",
    "#         try:\n",
    "#             line_bot_api.delete_rich_menu_alias(alias_id)\n",
    "#         except ApiException as e:\n",
    "#             if e.status != 404:\n",
    "#                 raise\n",
    "#         rich_menu_alias = CreateRichMenuAliasRequest(\n",
    "#             rich_menu_alias_id=alias_id,\n",
    "#             rich_menu_id=rich_menu_id\n",
    "#         )\n",
    "#         line_bot_api.create_rich_menu_alias(rich_menu_alias)\n",
    "\n",
    "#         # 設定預設 rich menu\n",
    "#         if menu_type == 'a':\n",
    "#             line_bot_api.set_default_rich_menu(rich_menu_id)\n",
    "        \n",
    "# def get_rich_menu_id(rich_menu_str: str = str):\n",
    "#     \"\"\"Returns\n",
    "#     str: rich menu id\n",
    "#     \"\"\"\n",
    "#     with ApiClient(configuration) as api_client:\n",
    "#         line_bot_api = MessagingApi(api_client)\n",
    "#     return line_bot_api.create_rich_menu(\n",
    "#         rich_menu_request=RichMenuRequest.from_json(rich_menu_str)\n",
    "#     ).rich_menu_id\n",
    "\n",
    "\n",
    "# process_rich_menu('a', 'page1')\n",
    "# process_rich_menu('b', 'page2')"
   ]
  },
  {
   "cell_type": "code",
   "execution_count": 42,
   "metadata": {},
   "outputs": [
    {
     "name": "stdout",
     "output_type": "stream",
     "text": [
      "richmenus=[RichMenuResponse(rich_menu_id='richmenu-6e8fd58f062639177ab331c92555effc', size=RichMenuSize(width=2500, height=1686), selected=True, name='圖文選單 1', chat_bar_text='查看更多資訊', areas=[RichMenuArea(bounds=RichMenuBounds(x=0, y=0, width=832, height=841), action=MessageAction(type='message', label=None, text='主選單')), RichMenuArea(bounds=RichMenuBounds(x=832, y=0, width=836, height=841), action=MessageAction(type='message', label=None, text='開課時間查詢')), RichMenuArea(bounds=RichMenuBounds(x=1665, y=0, width=832, height=841), action=MessageAction(type='message', label=None, text='證書申請流程')), RichMenuArea(bounds=RichMenuBounds(x=0, y=841, width=836, height=845), action=MessageAction(type='message', label=None, text='社群學習資源')), RichMenuArea(bounds=RichMenuBounds(x=832, y=841, width=836, height=845), action=MessageAction(type='message', label=None, text='線上輔導+實體預約')), RichMenuArea(bounds=RichMenuBounds(x=1665, y=841, width=832, height=845), action=RichMenuSwitchAction(type='richmenuswitch', label=None, data='richmenu-changed-to-page2', rich_menu_alias_id='page2'))]), RichMenuResponse(rich_menu_id='richmenu-d6b8106a54d491473e5d56f985b295b6', size=RichMenuSize(width=2500, height=1686), selected=False, name='圖文選單 2', chat_bar_text='查看更多資訊', areas=[RichMenuArea(bounds=RichMenuBounds(x=100, y=106, width=662, height=662), action=MessageAction(type='message', label=None, text='主選單')), RichMenuArea(bounds=RichMenuBounds(x=921, y=106, width=658, height=662), action=MessageAction(type='message', label=None, text='計畫成果展示')), RichMenuArea(bounds=RichMenuBounds(x=1765, y=106, width=661, height=662), action=MessageAction(type='message', label=None, text='設備租借')), RichMenuArea(bounds=RichMenuBounds(x=103, y=915, width=662, height=662), action=MessageAction(type='message', label=None, text='設定')), RichMenuArea(bounds=RichMenuBounds(x=918, y=915, width=661, height=662), action=MessageAction(type='message', label=None, text='常見問答')), RichMenuArea(bounds=RichMenuBounds(x=1762, y=909, width=662, height=663), action=RichMenuSwitchAction(type='richmenuswitch', label=None, data='richmenu-changed-to-page1', rich_menu_alias_id='page1'))])]\n"
     ]
    }
   ],
   "source": [
    "# with ApiClient(configuration) as api_client:\n",
    "#     line_bot_api = MessagingApi(api_client)\n",
    "#     line_bot_blob_api = MessagingApiBlob(api_client)\n",
    "#     richmenulist = line_bot_api.get_rich_menu_list()\n",
    "# print(richmenulist)"
   ]
  },
  {
   "cell_type": "code",
   "execution_count": 43,
   "metadata": {},
   "outputs": [
    {
     "name": "stdout",
     "output_type": "stream",
     "text": [
      "richmenu-6e8fd58f062639177ab331c92555effc\n",
      "richmenu-d6b8106a54d491473e5d56f985b295b6\n"
     ]
    }
   ],
   "source": [
    "# with ApiClient(configuration) as api_client:\n",
    "#     line_bot_api = MessagingApi(api_client)\n",
    "#     richmenulist = line_bot_api.get_rich_menu_list()\n",
    "\n",
    "\n",
    "# # richmenulist 中的 rich menus\n",
    "# for rich_menu in richmenulist.richmenus:\n",
    "#     print(rich_menu.rich_menu_id)\n",
    "#     # line_bot_api.delete_rich_menu(rich_menu.rich_menu_id)"
   ]
  }
 ],
 "metadata": {
  "kernelspec": {
   "display_name": "LineBotProject",
   "language": "python",
   "name": "python3"
  },
  "language_info": {
   "codemirror_mode": {
    "name": "ipython",
    "version": 3
   },
   "file_extension": ".py",
   "mimetype": "text/x-python",
   "name": "python",
   "nbconvert_exporter": "python",
   "pygments_lexer": "ipython3",
   "version": "3.12.2"
  }
 },
 "nbformat": 4,
 "nbformat_minor": 2
}
